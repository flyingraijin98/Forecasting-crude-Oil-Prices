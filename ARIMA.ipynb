{
  "nbformat": 4,
  "nbformat_minor": 0,
  "metadata": {
    "colab": {
      "name": "ARIMA.ipynb",
      "provenance": []
    },
    "kernelspec": {
      "name": "python3",
      "display_name": "Python 3"
    }
  },
  "cells": [
    {
      "cell_type": "code",
      "metadata": {
        "id": "OiG6jeGtPGRH",
        "outputId": "1cb9b696-5493-4e14-96fa-fc9bc7654195",
        "colab": {
          "base_uri": "https://localhost:8080/"
        }
      },
      "source": [
        "from google.colab import drive\n",
        "drive.mount('/content/drive')"
      ],
      "execution_count": 1,
      "outputs": [
        {
          "output_type": "stream",
          "text": [
            "Mounted at /content/drive\n"
          ],
          "name": "stdout"
        }
      ]
    },
    {
      "cell_type": "code",
      "metadata": {
        "id": "Xp0-8RiQPlyh",
        "outputId": "b22ea18d-1e77-4d4a-f640-ab1ae3868776",
        "colab": {
          "base_uri": "https://localhost:8080/"
        }
      },
      "source": [
        "import pandas as pd\n",
        "import numpy as np\n",
        "import matplotlib.pyplot as plt\n",
        "import statsmodels.api as sm\n",
        "from statsmodels.tsa.stattools import adfuller\n",
        "from statsmodels.graphics.tsaplots import plot_pacf\n",
        "from statsmodels.graphics.tsaplots import plot_acf\n",
        "from sklearn.linear_model import LinearRegression\n",
        "from sklearn.metrics import mean_squared_error\n",
        "from statsmodels.tsa.arima_model import ARIMA\n",
        "%matplotlib inline"
      ],
      "execution_count": 2,
      "outputs": [
        {
          "output_type": "stream",
          "text": [
            "/usr/local/lib/python3.6/dist-packages/statsmodels/tools/_testing.py:19: FutureWarning: pandas.util.testing is deprecated. Use the functions in the public API at pandas.testing instead.\n",
            "  import pandas.util.testing as tm\n"
          ],
          "name": "stderr"
        }
      ]
    },
    {
      "cell_type": "code",
      "metadata": {
        "id": "VIV-dB1XP9dk"
      },
      "source": [
        "df = pd.read_excel(\"/content/drive/My Drive/ASM_project/ASM_OPEC_CRUDE_OIL_PRICES.xlsx\")"
      ],
      "execution_count": 3,
      "outputs": []
    },
    {
      "cell_type": "code",
      "metadata": {
        "id": "9HxkGr6nP95j",
        "outputId": "8b03955c-1d4b-4b19-8044-02cec018b82e",
        "colab": {
          "base_uri": "https://localhost:8080/",
          "height": 197
        }
      },
      "source": [
        "df.head()"
      ],
      "execution_count": 4,
      "outputs": [
        {
          "output_type": "execute_result",
          "data": {
            "text/html": [
              "<div>\n",
              "<style scoped>\n",
              "    .dataframe tbody tr th:only-of-type {\n",
              "        vertical-align: middle;\n",
              "    }\n",
              "\n",
              "    .dataframe tbody tr th {\n",
              "        vertical-align: top;\n",
              "    }\n",
              "\n",
              "    .dataframe thead th {\n",
              "        text-align: right;\n",
              "    }\n",
              "</style>\n",
              "<table border=\"1\" class=\"dataframe\">\n",
              "  <thead>\n",
              "    <tr style=\"text-align: right;\">\n",
              "      <th></th>\n",
              "      <th>Month</th>\n",
              "      <th>Price</th>\n",
              "    </tr>\n",
              "  </thead>\n",
              "  <tbody>\n",
              "    <tr>\n",
              "      <th>0</th>\n",
              "      <td>1973-10-01</td>\n",
              "      <td>5.89</td>\n",
              "    </tr>\n",
              "    <tr>\n",
              "      <th>1</th>\n",
              "      <td>1973-11-01</td>\n",
              "      <td>7.07</td>\n",
              "    </tr>\n",
              "    <tr>\n",
              "      <th>2</th>\n",
              "      <td>1973-12-01</td>\n",
              "      <td>8.01</td>\n",
              "    </tr>\n",
              "    <tr>\n",
              "      <th>3</th>\n",
              "      <td>1974-01-01</td>\n",
              "      <td>11.94</td>\n",
              "    </tr>\n",
              "    <tr>\n",
              "      <th>4</th>\n",
              "      <td>1974-02-01</td>\n",
              "      <td>13.10</td>\n",
              "    </tr>\n",
              "  </tbody>\n",
              "</table>\n",
              "</div>"
            ],
            "text/plain": [
              "       Month  Price\n",
              "0 1973-10-01   5.89\n",
              "1 1973-11-01   7.07\n",
              "2 1973-12-01   8.01\n",
              "3 1974-01-01  11.94\n",
              "4 1974-02-01  13.10"
            ]
          },
          "metadata": {
            "tags": []
          },
          "execution_count": 4
        }
      ]
    },
    {
      "cell_type": "code",
      "metadata": {
        "id": "QYcso63aQAAE",
        "outputId": "4151016a-4607-4db6-dd28-e7f97e611c0c",
        "colab": {
          "base_uri": "https://localhost:8080/",
          "height": 282
        }
      },
      "source": [
        "df['Price'].plot()"
      ],
      "execution_count": 5,
      "outputs": [
        {
          "output_type": "execute_result",
          "data": {
            "text/plain": [
              "<matplotlib.axes._subplots.AxesSubplot at 0x7fc24376d128>"
            ]
          },
          "metadata": {
            "tags": []
          },
          "execution_count": 5
        },
        {
          "output_type": "display_data",
          "data": {
            "image/png": "[encoded data removed]",
            "text/plain": [
              "<Figure size 432x288 with 1 Axes>"
            ]
          },
          "metadata": {
            "tags": [],
            "needs_background": "light"
          }
        }
      ]
    },
    {
      "cell_type": "code",
      "metadata": {
        "id": "AO4QRYWEQF_Q",
        "outputId": "a741c121-27c3-434d-fc0c-00e14e7ce512",
        "colab": {
          "base_uri": "https://localhost:8080/",
          "height": 544
        }
      },
      "source": [
        "plot_acf(df['Price'])"
      ],
      "execution_count": 6,
      "outputs": [
        {
          "output_type": "execute_result",
          "data": {
            "image/png": "[encoded data removed]",
            "text/plain": [
              "<Figure size 432x288 with 1 Axes>"
            ]
          },
          "metadata": {
            "tags": []
          },
          "execution_count": 6
        },
        {
          "output_type": "display_data",
          "data": {
            "image/png": "[encoded data removed]",
            "text/plain": [
              "<Figure size 432x288 with 1 Axes>"
            ]
          },
          "metadata": {
            "tags": [],
            "needs_background": "light"
          }
        }
      ]
    },
    {
      "cell_type": "markdown",
      "metadata": {
        "id": "Lzlabc3jQVz5"
      },
      "source": [
        "**Converting series to stationary**"
      ]
    },
    {
      "cell_type": "code",
      "metadata": {
        "id": "gY6OonqKQS85",
        "outputId": "d12aab8f-c699-46c2-c8a0-6d26b3c3299a",
        "colab": {
          "base_uri": "https://localhost:8080/"
        }
      },
      "source": [
        "df['Price'].shift(1)"
      ],
      "execution_count": 7,
      "outputs": [
        {
          "output_type": "execute_result",
          "data": {
            "text/plain": [
              "0        NaN\n",
              "1       5.89\n",
              "2       7.07\n",
              "3       8.01\n",
              "4      11.94\n",
              "       ...  \n",
              "543    57.11\n",
              "544    57.46\n",
              "545    62.76\n",
              "546    65.30\n",
              "547    70.04\n",
              "Name: Price, Length: 548, dtype: float64"
            ]
          },
          "metadata": {
            "tags": []
          },
          "execution_count": 7
        }
      ]
    },
    {
      "cell_type": "code",
      "metadata": {
        "id": "ZTrRry72QgNH"
      },
      "source": [
        "price_diff = df['Price'].diff(periods=1)"
      ],
      "execution_count": 8,
      "outputs": []
    },
    {
      "cell_type": "code",
      "metadata": {
        "id": "MwkzWsa9QswV",
        "outputId": "7193127a-8385-4cff-824c-9f5164db2c35",
        "colab": {
          "base_uri": "https://localhost:8080/"
        }
      },
      "source": [
        "price_diff = price_diff[1:]\n",
        "price_diff.head()"
      ],
      "execution_count": 9,
      "outputs": [
        {
          "output_type": "execute_result",
          "data": {
            "text/plain": [
              "1    1.18\n",
              "2    0.94\n",
              "3    3.93\n",
              "4    1.16\n",
              "5   -0.06\n",
              "Name: Price, dtype: float64"
            ]
          },
          "metadata": {
            "tags": []
          },
          "execution_count": 9
        }
      ]
    },
    {
      "cell_type": "code",
      "metadata": {
        "id": "h7-LixTaQyq5",
        "outputId": "ac646e00-a1ed-4d08-d09b-3c61c09595e4",
        "colab": {
          "base_uri": "https://localhost:8080/",
          "height": 544
        }
      },
      "source": [
        "plot_acf(price_diff)"
      ],
      "execution_count": 10,
      "outputs": [
        {
          "output_type": "execute_result",
          "data": {
            "image/png": "[encoded data removed]",
            "text/plain": [
              "<Figure size 432x288 with 1 Axes>"
            ]
          },
          "metadata": {
            "tags": []
          },
          "execution_count": 10
        },
        {
          "output_type": "display_data",
          "data": {
            "image/png": "[encoded data removed]",
            "text/plain": [
              "<Figure size 432x288 with 1 Axes>"
            ]
          },
          "metadata": {
            "tags": [],
            "needs_background": "light"
          }
        }
      ]
    },
    {
      "cell_type": "code",
      "metadata": {
        "id": "R8MHp5RxTQue",
        "outputId": "ebb15451-9ee6-4de7-f197-4b62bde4a88d",
        "colab": {
          "base_uri": "https://localhost:8080/",
          "height": 544
        }
      },
      "source": [
        "plot_pacf(price_diff)"
      ],
      "execution_count": 11,
      "outputs": [
        {
          "output_type": "execute_result",
          "data": {
            "image/png": "[encoded data removed]",
            "text/plain": [
              "<Figure size 432x288 with 1 Axes>"
            ]
          },
          "metadata": {
            "tags": []
          },
          "execution_count": 11
        },
        {
          "output_type": "display_data",
          "data": {
            "image/png": "[encoded data removed]",
            "text/plain": [
              "<Figure size 432x288 with 1 Axes>"
            ]
          },
          "metadata": {
            "tags": [],
            "needs_background": "light"
          }
        }
      ]
    },
    {
      "cell_type": "code",
      "metadata": {
        "id": "QL1mMiuURD5t",
        "outputId": "3baa84fe-0fea-49d6-e3fe-e547bb5d0e28",
        "colab": {
          "base_uri": "https://localhost:8080/",
          "height": 282
        }
      },
      "source": [
        "price_diff.plot()"
      ],
      "execution_count": 12,
      "outputs": [
        {
          "output_type": "execute_result",
          "data": {
            "text/plain": [
              "<matplotlib.axes._subplots.AxesSubplot at 0x7fc2408e9ef0>"
            ]
          },
          "metadata": {
            "tags": []
          },
          "execution_count": 12
        },
        {
          "output_type": "display_data",
          "data": {
            "image/png": "[encoded data removed]",
            "text/plain": [
              "<Figure size 432x288 with 1 Axes>"
            ]
          },
          "metadata": {
            "tags": [],
            "needs_background": "light"
          }
        }
      ]
    },
    {
      "cell_type": "code",
      "metadata": {
        "id": "OtiTZYVCRKaT"
      },
      "source": [
        "mcn = df['Price']\n",
        "X= mcn.values\n",
        "train_size = int(len(X)*0.8)\n",
        "train = X[:train_size]\n",
        "test = X[train_size +1 :]\n",
        "predictions = []"
      ],
      "execution_count": 13,
      "outputs": []
    },
    {
      "cell_type": "code",
      "metadata": {
        "id": "QYqBprYdRYbQ"
      },
      "source": [
        "from statsmodels.tsa.arima_model import ARIMA"
      ],
      "execution_count": 14,
      "outputs": []
    },
    {
      "cell_type": "code",
      "metadata": {
        "id": "ehxA3J6kSret",
        "outputId": "2fe1c801-553f-4745-f2a1-fdaa1fdba12d",
        "colab": {
          "base_uri": "https://localhost:8080/"
        }
      },
      "source": [
        "#p,d,q  p = periods taken for autoregressive model\n",
        "#d -> Integrated order, difference\n",
        "# q periods in moving average model\n",
        "model_arima = ARIMA(train,order=(4, 0, 1))\n",
        "model_arima_fit = model_arima.fit()\n",
        "print(model_arima_fit.summary())"
      ],
      "execution_count": 22,
      "outputs": [
        {
          "output_type": "stream",
          "text": [
            "                              ARMA Model Results                              \n",
            "==============================================================================\n",
            "Dep. Variable:                      y   No. Observations:                  438\n",
            "Model:                     ARMA(4, 1)   Log Likelihood                -872.794\n",
            "Method:                       css-mle   S.D. of innovations              1.762\n",
            "Date:                Tue, 10 Nov 2020   AIC                           1759.588\n",
            "Time:                        05:18:06   BIC                           1788.163\n",
            "Sample:                             0   HQIC                          1770.863\n",
            "                                                                              \n",
            "==============================================================================\n",
            "                 coef    std err          z      P>|z|      [0.025      0.975]\n",
            "------------------------------------------------------------------------------\n",
            "const         32.3947     13.373      2.422      0.016       6.185      58.605\n",
            "ar.L1.y        2.3368      0.201     11.611      0.000       1.942       2.731\n",
            "ar.L2.y       -1.8243      0.401     -4.547      0.000      -2.611      -1.038\n",
            "ar.L3.y        0.3937      0.282      1.399      0.163      -0.158       0.945\n",
            "ar.L4.y        0.0913      0.081      1.124      0.262      -0.068       0.251\n",
            "ma.L1.y       -0.5381      0.204     -2.642      0.009      -0.937      -0.139\n",
            "                                    Roots                                    \n",
            "=============================================================================\n",
            "                  Real          Imaginary           Modulus         Frequency\n",
            "-----------------------------------------------------------------------------\n",
            "AR.1            1.0106           -0.0000j            1.0106           -0.0000\n",
            "AR.2            1.0741           -0.5447j            1.2043           -0.0747\n",
            "AR.3            1.0741           +0.5447j            1.2043            0.0747\n",
            "AR.4           -7.4688           -0.0000j            7.4688           -0.5000\n",
            "MA.1            1.8583           +0.0000j            1.8583            0.0000\n",
            "-----------------------------------------------------------------------------\n"
          ],
          "name": "stdout"
        }
      ]
    },
    {
      "cell_type": "code",
      "metadata": {
        "id": "-yVGPH8oW-CL",
        "outputId": "ab9e8a50-5eaf-4225-aef5-56ae228bb283",
        "colab": {
          "base_uri": "https://localhost:8080/"
        }
      },
      "source": [
        "import itertools\n",
        "p=d=q=range(0,5)\n",
        "pdq = list(itertools.product(p,d,q))\n",
        "pdq"
      ],
      "execution_count": 16,
      "outputs": [
        {
          "output_type": "execute_result",
          "data": {
            "text/plain": [
              "[(0, 0, 0),\n",
              " (0, 0, 1),\n",
              " (0, 0, 2),\n",
              " (0, 0, 3),\n",
              " (0, 0, 4),\n",
              " (0, 1, 0),\n",
              " (0, 1, 1),\n",
              " (0, 1, 2),\n",
              " (0, 1, 3),\n",
              " (0, 1, 4),\n",
              " (0, 2, 0),\n",
              " (0, 2, 1),\n",
              " (0, 2, 2),\n",
              " (0, 2, 3),\n",
              " (0, 2, 4),\n",
              " (0, 3, 0),\n",
              " (0, 3, 1),\n",
              " (0, 3, 2),\n",
              " (0, 3, 3),\n",
              " (0, 3, 4),\n",
              " (0, 4, 0),\n",
              " (0, 4, 1),\n",
              " (0, 4, 2),\n",
              " (0, 4, 3),\n",
              " (0, 4, 4),\n",
              " (1, 0, 0),\n",
              " (1, 0, 1),\n",
              " (1, 0, 2),\n",
              " (1, 0, 3),\n",
              " (1, 0, 4),\n",
              " (1, 1, 0),\n",
              " (1, 1, 1),\n",
              " (1, 1, 2),\n",
              " (1, 1, 3),\n",
              " (1, 1, 4),\n",
              " (1, 2, 0),\n",
              " (1, 2, 1),\n",
              " (1, 2, 2),\n",
              " (1, 2, 3),\n",
              " (1, 2, 4),\n",
              " (1, 3, 0),\n",
              " (1, 3, 1),\n",
              " (1, 3, 2),\n",
              " (1, 3, 3),\n",
              " (1, 3, 4),\n",
              " (1, 4, 0),\n",
              " (1, 4, 1),\n",
              " (1, 4, 2),\n",
              " (1, 4, 3),\n",
              " (1, 4, 4),\n",
              " (2, 0, 0),\n",
              " (2, 0, 1),\n",
              " (2, 0, 2),\n",
              " (2, 0, 3),\n",
              " (2, 0, 4),\n",
              " (2, 1, 0),\n",
              " (2, 1, 1),\n",
              " (2, 1, 2),\n",
              " (2, 1, 3),\n",
              " (2, 1, 4),\n",
              " (2, 2, 0),\n",
              " (2, 2, 1),\n",
              " (2, 2, 2),\n",
              " (2, 2, 3),\n",
              " (2, 2, 4),\n",
              " (2, 3, 0),\n",
              " (2, 3, 1),\n",
              " (2, 3, 2),\n",
              " (2, 3, 3),\n",
              " (2, 3, 4),\n",
              " (2, 4, 0),\n",
              " (2, 4, 1),\n",
              " (2, 4, 2),\n",
              " (2, 4, 3),\n",
              " (2, 4, 4),\n",
              " (3, 0, 0),\n",
              " (3, 0, 1),\n",
              " (3, 0, 2),\n",
              " (3, 0, 3),\n",
              " (3, 0, 4),\n",
              " (3, 1, 0),\n",
              " (3, 1, 1),\n",
              " (3, 1, 2),\n",
              " (3, 1, 3),\n",
              " (3, 1, 4),\n",
              " (3, 2, 0),\n",
              " (3, 2, 1),\n",
              " (3, 2, 2),\n",
              " (3, 2, 3),\n",
              " (3, 2, 4),\n",
              " (3, 3, 0),\n",
              " (3, 3, 1),\n",
              " (3, 3, 2),\n",
              " (3, 3, 3),\n",
              " (3, 3, 4),\n",
              " (3, 4, 0),\n",
              " (3, 4, 1),\n",
              " (3, 4, 2),\n",
              " (3, 4, 3),\n",
              " (3, 4, 4),\n",
              " (4, 0, 0),\n",
              " (4, 0, 1),\n",
              " (4, 0, 2),\n",
              " (4, 0, 3),\n",
              " (4, 0, 4),\n",
              " (4, 1, 0),\n",
              " (4, 1, 1),\n",
              " (4, 1, 2),\n",
              " (4, 1, 3),\n",
              " (4, 1, 4),\n",
              " (4, 2, 0),\n",
              " (4, 2, 1),\n",
              " (4, 2, 2),\n",
              " (4, 2, 3),\n",
              " (4, 2, 4),\n",
              " (4, 3, 0),\n",
              " (4, 3, 1),\n",
              " (4, 3, 2),\n",
              " (4, 3, 3),\n",
              " (4, 3, 4),\n",
              " (4, 4, 0),\n",
              " (4, 4, 1),\n",
              " (4, 4, 2),\n",
              " (4, 4, 3),\n",
              " (4, 4, 4)]"
            ]
          },
          "metadata": {
            "tags": []
          },
          "execution_count": 16
        }
      ]
    },
    {
      "cell_type": "code",
      "metadata": {
        "id": "mYYcFPYoSyeP",
        "outputId": "66017aed-9a38-46f6-c5e8-653998736d46",
        "colab": {
          "base_uri": "https://localhost:8080/"
        }
      },
      "source": [
        "import warnings\n",
        "warnings.filterwarnings('ignore')\n",
        "for param in pdq:\n",
        "    try:\n",
        "        model_arima = ARIMA(train,order=param)\n",
        "        model_arima_fit = model_arima.fit()\n",
        "        print(param,model_arima_fit.aic)\n",
        "    except:\n",
        "        continue"
      ],
      "execution_count": 17,
      "outputs": [
        {
          "output_type": "stream",
          "text": [
            "(0, 0, 0) 3859.8099896502054\n",
            "(0, 0, 1) 3285.4201014383584\n",
            "(0, 1, 0) 2112.9723861549996\n",
            "(0, 1, 1) 1881.581824406106\n",
            "(0, 1, 3) 1771.2450079569073\n",
            "(0, 1, 4) 1767.9882954715517\n",
            "(0, 2, 0) 1854.1315776705899\n",
            "(0, 2, 1) 1854.6854028086836\n",
            "(0, 2, 2) 1856.406921183022\n",
            "(0, 2, 3) 1790.0112444110819\n",
            "(0, 2, 4) 1774.091659226898\n",
            "(1, 0, 0) 2125.38331002219\n",
            "(1, 0, 1) 1892.729296889819\n",
            "(1, 0, 2) 1796.2374534750695\n",
            "(1, 0, 3) 1779.162228143302\n",
            "(1, 0, 4) 1774.4303291393535\n",
            "(1, 1, 0) 1794.824250996653\n",
            "(1, 1, 1) 1782.3800687315493\n",
            "(1, 1, 2) 1767.4244380323498\n",
            "(1, 1, 3) 1768.0693610582537\n",
            "(1, 2, 0) 1854.6549599668529\n",
            "(1, 2, 1) 1797.1213535427946\n",
            "(1, 2, 2) 1784.8601259512625\n",
            "(1, 2, 3) 1770.033162532765\n",
            "(1, 2, 4) 1770.6860304111387\n",
            "(2, 0, 0) 1796.344361285764\n",
            "(2, 0, 1) 1786.3442791132697\n",
            "(2, 0, 2) 1772.8800389183955\n",
            "(2, 0, 3) 1773.7028600995654\n",
            "(2, 0, 4) 1785.5925217781764\n",
            "(2, 1, 0) 1773.3641674629991\n",
            "(2, 1, 1) 1746.13404920525\n",
            "(2, 1, 2) 1748.0411536320976\n",
            "(2, 2, 0) 1856.6549018955438\n",
            "(2, 2, 1) 1776.035495468692\n",
            "(2, 2, 2) 1749.5832766704073\n",
            "(2, 2, 3) 1751.4894777841978\n",
            "(2, 2, 4) 1769.329217998131\n",
            "(3, 0, 0) 1779.3762650508486\n",
            "(3, 0, 1) 1758.2026324287976\n",
            "(3, 0, 2) 1759.8797912486546\n",
            "(3, 1, 0) 1753.0268414814802\n",
            "(3, 1, 1) 1747.9818250944588\n",
            "(3, 1, 2) 1749.7289086086184\n",
            "(3, 2, 0) 1847.484212245935\n",
            "(3, 2, 1) 1755.9881249415155\n",
            "(3, 2, 2) 1751.4200979330287\n",
            "(3, 2, 3) 1751.6324304865657\n",
            "(3, 2, 4) 1753.61844016358\n",
            "(4, 0, 0) 1761.8143119823335\n",
            "(4, 0, 1) 1759.5875965576652\n",
            "(4, 0, 2) 1761.0281995231326\n",
            "(4, 1, 0) 1752.1711079857464\n",
            "(4, 1, 1) 1744.8825799589667\n",
            "(4, 1, 2) 1746.8635676398455\n",
            "(4, 1, 3) 1745.4403526774029\n",
            "(4, 2, 0) 1838.993060429121\n",
            "(4, 2, 1) 1755.2205621960395\n",
            "(4, 2, 2) 1748.077470801029\n",
            "(4, 2, 3) 1753.3328445955453\n",
            "(4, 2, 4) 1748.8569222504566\n"
          ],
          "name": "stdout"
        }
      ]
    },
    {
      "cell_type": "code",
      "metadata": {
        "id": "_nazmtK3WOPL",
        "outputId": "eafa55c1-5edf-46b8-d0f4-174926fb61e6",
        "colab": {
          "base_uri": "https://localhost:8080/"
        }
      },
      "source": [
        "X = price_diff.values\n",
        "result = adfuller(X)\n",
        "print('ADF Statistic: %f' % result[0])\n",
        "print('p-value: %f' % result[1])\n",
        "print('Critical Values:')\n",
        "for key, value in result[4].items():\n",
        "    print('\\t%s: %.3f' % (key, value))\n",
        "\n",
        "if result[0] < result[4][\"5%\"]:\n",
        "    print (\"Reject Ho - Time Series is Stationary\")\n",
        "else:\n",
        "    print (\"Failed to Reject Ho - Time Series is Non-Stationary\")"
      ],
      "execution_count": 19,
      "outputs": [
        {
          "output_type": "stream",
          "text": [
            "ADF Statistic: -6.588178\n",
            "p-value: 0.000000\n",
            "Critical Values:\n",
            "\t1%: -3.443\n",
            "\t5%: -2.867\n",
            "\t10%: -2.570\n",
            "Reject Ho - Time Series is Stationary\n"
          ],
          "name": "stdout"
        }
      ]
    },
    {
      "cell_type": "code",
      "metadata": {
        "id": "ECPCiMnlT8DA"
      },
      "source": [
        ""
      ],
      "execution_count": null,
      "outputs": []
    }
  ]
}